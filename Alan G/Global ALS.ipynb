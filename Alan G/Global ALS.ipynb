{
 "cells": [
  {
   "cell_type": "markdown",
   "id": "ba45115e-156c-4f31-b333-7dedd91acf08",
   "metadata": {},
   "source": [
    "Matrix Factorization is a powerful technique for building recommendation systems, especially when working with sparse user-item interaction data. One popular approach to matrix factorization is Alternating Least Squares (ALS), which efficiently handles large-scale datasets by decomposing a user-item interaction matrix into two low-rank matrices: one representing user preferences and the other item attributes.\n",
    "\n",
    "ALS is well-suited for the MovieLens 100K dataset because:\n",
    "1) Scalability: ALS uses parallelizable updates, making it computationally efficient even for larger datasets.\n",
    "2) Sparse Data Handling: The dataset is sparse, with many missing user-item interactions, a scenario where ALS performs well."
   ]
  },
  {
   "cell_type": "code",
   "execution_count": 1,
   "id": "f8ded314-43f6-419e-aa47-4f1a31a48e3d",
   "metadata": {},
   "outputs": [
    {
     "name": "stdout",
     "output_type": "stream",
     "text": [
      "Requirement already satisfied: pyspark in /opt/venv/lib/python3.10/site-packages (3.5.3)\n",
      "Requirement already satisfied: py4j==0.10.9.7 in /opt/venv/lib/python3.10/site-packages (from pyspark) (0.10.9.7)\n",
      "\n",
      "\u001b[1m[\u001b[0m\u001b[34;49mnotice\u001b[0m\u001b[1;39;49m]\u001b[0m\u001b[39;49m A new release of pip is available: \u001b[0m\u001b[31;49m24.2\u001b[0m\u001b[39;49m -> \u001b[0m\u001b[32;49m24.3.1\u001b[0m\n",
      "\u001b[1m[\u001b[0m\u001b[34;49mnotice\u001b[0m\u001b[1;39;49m]\u001b[0m\u001b[39;49m To update, run: \u001b[0m\u001b[32;49mpip install --upgrade pip\u001b[0m\n",
      "Requirement already satisfied: pandas in /opt/venv/lib/python3.10/site-packages (2.2.3)\n",
      "Requirement already satisfied: numpy>=1.22.4 in /opt/venv/lib/python3.10/site-packages (from pandas) (2.1.2)\n",
      "Requirement already satisfied: python-dateutil>=2.8.2 in /opt/venv/lib/python3.10/site-packages (from pandas) (2.9.0.post0)\n",
      "Requirement already satisfied: pytz>=2020.1 in /opt/venv/lib/python3.10/site-packages (from pandas) (2024.2)\n",
      "Requirement already satisfied: tzdata>=2022.7 in /opt/venv/lib/python3.10/site-packages (from pandas) (2024.2)\n",
      "Requirement already satisfied: six>=1.5 in /opt/venv/lib/python3.10/site-packages (from python-dateutil>=2.8.2->pandas) (1.16.0)\n",
      "\n",
      "\u001b[1m[\u001b[0m\u001b[34;49mnotice\u001b[0m\u001b[1;39;49m]\u001b[0m\u001b[39;49m A new release of pip is available: \u001b[0m\u001b[31;49m24.2\u001b[0m\u001b[39;49m -> \u001b[0m\u001b[32;49m24.3.1\u001b[0m\n",
      "\u001b[1m[\u001b[0m\u001b[34;49mnotice\u001b[0m\u001b[1;39;49m]\u001b[0m\u001b[39;49m To update, run: \u001b[0m\u001b[32;49mpip install --upgrade pip\u001b[0m\n"
     ]
    }
   ],
   "source": [
    "!pip install pyspark\n",
    "!pip install pandas\n",
    "import pandas as pd\n",
    "global_train_df = pd.read_csv(\"../MATHM0029_2024_TB-1/global_train_df.csv\")\n",
    "global_test_df = pd.read_csv(\"../MATHM0029_2024_TB-1/global_test_df.csv\")"
   ]
  },
  {
   "cell_type": "markdown",
   "id": "41a9ba64-7de2-45d6-b323-7e5ab076e2c4",
   "metadata": {},
   "source": [
    "We use a 80-20 train-test split, where the test data consists of the latest 20% of ratings for each user."
   ]
  },
  {
   "cell_type": "markdown",
   "id": "deee7439-549d-4692-b7d1-a3f7c0f98e5e",
   "metadata": {},
   "source": [
    "# Standard Model\n",
    "\n",
    "The decision to drop variables such as user information (e.g., age, occupation, gender) and item information (e.g., genre) in the following model can be explained by the following considerations:\n",
    "1) The ALS (Alternating Least Squares) algorithm used in the model is inherently a collaborative filtering approach. Collaborative filtering relies only on user-item interaction data (e.g., user IDs, item IDs, and ratings) to make predictions. The assumption is that similar users (based on their historical preferences) and similar items (based on their popularity among users) can be identified purely from the interaction matrix. Including demographic or item-specific data is not essential in this paradigm.\n",
    "2) ALS models are designed to handle sparse user-item interaction matrices efficiently. Adding additional features like user demographics or item metadata would require incorporating these into the matrix factorization process, significantly increasing computational complexity.\n",
    "3) The ALS algorithm, in its standard implementation, does not natively support incorporating additional side information like user or item metadata. While hybrid approaches exist (e.g., feature-enhanced matrix factorization or deep learning models), they require additional preprocessing, modeling, and computational resources.\n"
   ]
  },
  {
   "cell_type": "code",
   "execution_count": null,
   "id": "50fecf72-7a41-4899-adfc-2ca1604ba6f9",
   "metadata": {},
   "outputs": [],
   "source": [
    "from pyspark.sql import SparkSession\n",
    "from pyspark.ml.recommendation import ALS\n",
    "from pyspark.sql.functions import col, collect_list\n",
    "from pyspark.ml.evaluation import RegressionEvaluator\n",
    "\n",
    "# Initialize Spark session\n",
    "spark = SparkSession.builder.appName(\"RecommenderSystem\").getOrCreate()\n",
    "\n",
    "# Prepare the data\n",
    "columns = [\"User ID\", \"Item ID\", \"Rating\"]\n",
    "global_train_spark_df = spark.createDataFrame(global_train_df[columns])\n",
    "global_test_spark_df = spark.createDataFrame(global_test_df[columns])\n",
    "\n",
    "# ALS Model Setup\n",
    "als = ALS(\n",
    "    userCol=\"User ID\",\n",
    "    itemCol=\"Item ID\",\n",
    "    ratingCol=\"Rating\",\n",
    "    maxIter=10,\n",
    "    regParam=0.1,\n",
    "    rank=10,\n",
    "    coldStartStrategy=\"drop\"  # Prevent NaN predictions\n",
    ")\n",
    "\n",
    "# Train the model\n",
    "als_model = als.fit(global_train_spark_df)\n",
    "\n",
    "# Generate Recommendations for All Users\n",
    "user_recommendations = als_model.recommendForAllUsers(10)  # Top 10 recommendations per user\n",
    "\n",
    "# Evaluate the model with RMSE on test set\n",
    "predictions = als_model.transform(global_test_spark_df)\n",
    "evaluator = RegressionEvaluator(\n",
    "    metricName=\"mse\",\n",
    "    labelCol=\"Rating\",\n",
    "    predictionCol=\"prediction\"\n",
    ")\n",
    "mse = evaluator.evaluate(predictions)\n",
    "print(f\"MSE: {mse}\")"
   ]
  },
  {
   "cell_type": "code",
   "execution_count": null,
   "id": "f7ab06ba-e551-4582-b44a-6d1316ff900d",
   "metadata": {},
   "outputs": [],
   "source": []
  }
 ],
 "metadata": {
  "kernelspec": {
   "display_name": "Python 3 (ipykernel)",
   "language": "python",
   "name": "python3"
  },
  "language_info": {
   "codemirror_mode": {
    "name": "ipython",
    "version": 3
   },
   "file_extension": ".py",
   "mimetype": "text/x-python",
   "name": "python",
   "nbconvert_exporter": "python",
   "pygments_lexer": "ipython3",
   "version": "3.10.12"
  }
 },
 "nbformat": 4,
 "nbformat_minor": 5
}
