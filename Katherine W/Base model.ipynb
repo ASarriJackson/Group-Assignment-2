{
 "cells": [
  {
   "cell_type": "markdown",
   "id": "629d0d78",
   "metadata": {},
   "source": [
    "# Base Model\n",
    "Our base model recommends the most popular movies with rating over 3. There is no personalisation based on ther user's history."
   ]
  },
  {
   "cell_type": "code",
   "execution_count": 24,
   "id": "0eef19d5",
   "metadata": {},
   "outputs": [],
   "source": [
    "import numpy as np\n",
    "import pandas as pd"
   ]
  },
  {
   "cell_type": "code",
   "execution_count": 25,
   "id": "63118b0c",
   "metadata": {},
   "outputs": [],
   "source": [
    "df = pd.read_csv('user_train_df.csv')\n",
    "dft = pd.read_csv('user_test_df.csv')\n",
    "\n",
    "all_data= pd.concat([df, dft], ignore_index=True)"
   ]
  },
  {
   "cell_type": "markdown",
   "id": "e66dfc68",
   "metadata": {},
   "source": [
    "Find the movies that would be recommended to all users"
   ]
  },
  {
   "cell_type": "code",
   "execution_count": 26,
   "id": "993d118a",
   "metadata": {},
   "outputs": [
    {
     "name": "stdout",
     "output_type": "stream",
     "text": [
      "Return of the Jedi (1983)                 379\n",
      "Raiders of the Lost Ark (1981)            348\n",
      "Toy Story (1995)                          321\n",
      "Empire Strikes Back, The (1980)           293\n",
      "Twelve Monkeys (1995)                     263\n",
      "Air Force One (1997)                      252\n",
      "Princess Bride, The (1987)                248\n",
      "Jerry Maguire (1996)                      246\n",
      "Monty Python and the Holy Grail (1974)    242\n",
      "L.A. Confidential (1997)                  239\n",
      "Name: Movie Title, dtype: int64\n"
     ]
    }
   ],
   "source": [
    "# Filter movies with ratings greater than 3\n",
    "filtered_df = df[df[\"Rating\"] > 3]\n",
    "\n",
    "# Count occurrences of each movie\n",
    "movie_counts = filtered_df[\"Movie Title\"].value_counts()\n",
    "\n",
    "# Get the top 10 most common movies\n",
    "top_10_movies = movie_counts.head(10)\n",
    "\n",
    "# Display the results\n",
    "print(top_10_movies)"
   ]
  },
  {
   "cell_type": "code",
   "execution_count": 37,
   "id": "647c7b7e",
   "metadata": {},
   "outputs": [
    {
     "data": {
      "text/html": [
       "<div>\n",
       "<style scoped>\n",
       "    .dataframe tbody tr th:only-of-type {\n",
       "        vertical-align: middle;\n",
       "    }\n",
       "\n",
       "    .dataframe tbody tr th {\n",
       "        vertical-align: top;\n",
       "    }\n",
       "\n",
       "    .dataframe thead th {\n",
       "        text-align: right;\n",
       "    }\n",
       "</style>\n",
       "<table border=\"1\" class=\"dataframe\">\n",
       "  <thead>\n",
       "    <tr style=\"text-align: right;\">\n",
       "      <th></th>\n",
       "      <th>Item ID</th>\n",
       "      <th>Rating</th>\n",
       "    </tr>\n",
       "  </thead>\n",
       "  <tbody>\n",
       "    <tr>\n",
       "      <th>0</th>\n",
       "      <td>1653</td>\n",
       "      <td>5.000000</td>\n",
       "    </tr>\n",
       "    <tr>\n",
       "      <th>1</th>\n",
       "      <td>1500</td>\n",
       "      <td>5.000000</td>\n",
       "    </tr>\n",
       "    <tr>\n",
       "      <th>2</th>\n",
       "      <td>1467</td>\n",
       "      <td>5.000000</td>\n",
       "    </tr>\n",
       "    <tr>\n",
       "      <th>3</th>\n",
       "      <td>1599</td>\n",
       "      <td>5.000000</td>\n",
       "    </tr>\n",
       "    <tr>\n",
       "      <th>4</th>\n",
       "      <td>1449</td>\n",
       "      <td>4.625000</td>\n",
       "    </tr>\n",
       "    <tr>\n",
       "      <th>5</th>\n",
       "      <td>1398</td>\n",
       "      <td>4.500000</td>\n",
       "    </tr>\n",
       "    <tr>\n",
       "      <th>6</th>\n",
       "      <td>1642</td>\n",
       "      <td>4.500000</td>\n",
       "    </tr>\n",
       "    <tr>\n",
       "      <th>7</th>\n",
       "      <td>1594</td>\n",
       "      <td>4.500000</td>\n",
       "    </tr>\n",
       "    <tr>\n",
       "      <th>8</th>\n",
       "      <td>169</td>\n",
       "      <td>4.466102</td>\n",
       "    </tr>\n",
       "    <tr>\n",
       "      <th>9</th>\n",
       "      <td>12</td>\n",
       "      <td>4.385768</td>\n",
       "    </tr>\n",
       "  </tbody>\n",
       "</table>\n",
       "</div>"
      ],
      "text/plain": [
       "   Item ID    Rating\n",
       "0     1653  5.000000\n",
       "1     1500  5.000000\n",
       "2     1467  5.000000\n",
       "3     1599  5.000000\n",
       "4     1449  4.625000\n",
       "5     1398  4.500000\n",
       "6     1642  4.500000\n",
       "7     1594  4.500000\n",
       "8      169  4.466102\n",
       "9       12  4.385768"
      ]
     },
     "execution_count": 37,
     "metadata": {},
     "output_type": "execute_result"
    }
   ],
   "source": [
    "# Calculate the average rating for each movie\n",
    "average_ratings =df.groupby(\"Item ID\")[\"Rating\"].mean()\n",
    "\n",
    "# Count occurrences of each movie\n",
    "movie_counts = df[\"Item ID\"].value_counts()\n",
    "\n",
    "# Get the top 10 most common movies\n",
    "top_10_movies = movie_counts.head(10)\n",
    "\n",
    "# Get the average ratings for the top 10 movies\n",
    "top_10_movies_with_avg_ratings = average_ratings.loc[top_10_movies.index]\n",
    "\n",
    "av_ratings = average_ratings.to_frame()\n",
    "\n",
    "df_ranking = average_ratings.sort_values(ascending=False).reset_index()\n",
    "\n",
    "\n",
    "(df_ranking.head(10))"
   ]
  },
  {
   "cell_type": "code",
   "execution_count": 27,
   "id": "d7868c8d",
   "metadata": {},
   "outputs": [],
   "source": [
    "# Calculate the average rating for each movie\n",
    "average_ratings =df.groupby(\"Movie Title\")[\"Rating\"].mean()\n",
    "\n",
    "# Count occurrences of each movie\n",
    "movie_counts = df[\"Movie Title\"].value_counts()\n",
    "\n",
    "# Get the top 10 most common movies\n",
    "top_10_movies = movie_counts.head(10)\n",
    "\n",
    "# Get the average ratings for the top 10 movies\n",
    "top_10_movies_with_avg_ratings = average_ratings.loc[top_10_movies.index]\n",
    "\n",
    "av_ratings = average_ratings.to_frame()"
   ]
  },
  {
   "cell_type": "code",
   "execution_count": 28,
   "id": "0f32c457",
   "metadata": {},
   "outputs": [
    {
     "data": {
      "text/html": [
       "<div>\n",
       "<style scoped>\n",
       "    .dataframe tbody tr th:only-of-type {\n",
       "        vertical-align: middle;\n",
       "    }\n",
       "\n",
       "    .dataframe tbody tr th {\n",
       "        vertical-align: top;\n",
       "    }\n",
       "\n",
       "    .dataframe thead th {\n",
       "        text-align: right;\n",
       "    }\n",
       "</style>\n",
       "<table border=\"1\" class=\"dataframe\">\n",
       "  <thead>\n",
       "    <tr style=\"text-align: right;\">\n",
       "      <th></th>\n",
       "      <th>Rating</th>\n",
       "    </tr>\n",
       "    <tr>\n",
       "      <th>Movie Title</th>\n",
       "      <th></th>\n",
       "    </tr>\n",
       "  </thead>\n",
       "  <tbody>\n",
       "    <tr>\n",
       "      <th>kldum klaka (Cold Fever) (1994)</th>\n",
       "      <td>3.000000</td>\n",
       "    </tr>\n",
       "    <tr>\n",
       "      <th>101 Dalmatians (1996)</th>\n",
       "      <td>2.908257</td>\n",
       "    </tr>\n",
       "    <tr>\n",
       "      <th>12 Angry Men (1957)</th>\n",
       "      <td>4.344000</td>\n",
       "    </tr>\n",
       "    <tr>\n",
       "      <th>2 Days in the Valley (1996)</th>\n",
       "      <td>3.225806</td>\n",
       "    </tr>\n",
       "    <tr>\n",
       "      <th>8 Heads in a Duffel Bag (1997)</th>\n",
       "      <td>3.250000</td>\n",
       "    </tr>\n",
       "    <tr>\n",
       "      <th>...</th>\n",
       "      <td>...</td>\n",
       "    </tr>\n",
       "    <tr>\n",
       "      <th>Wrong Trousers, The (1993)</th>\n",
       "      <td>4.466102</td>\n",
       "    </tr>\n",
       "    <tr>\n",
       "      <th>Wyatt Earp (1994)</th>\n",
       "      <td>3.100000</td>\n",
       "    </tr>\n",
       "    <tr>\n",
       "      <th>You So Crazy (1994)</th>\n",
       "      <td>3.000000</td>\n",
       "    </tr>\n",
       "    <tr>\n",
       "      <th>Young Frankenstein (1974)</th>\n",
       "      <td>3.945000</td>\n",
       "    </tr>\n",
       "    <tr>\n",
       "      <th>Young Guns (1988)</th>\n",
       "      <td>3.207921</td>\n",
       "    </tr>\n",
       "  </tbody>\n",
       "</table>\n",
       "<p>601 rows × 1 columns</p>\n",
       "</div>"
      ],
      "text/plain": [
       "                                    Rating\n",
       "Movie Title                               \n",
       " kldum klaka (Cold Fever) (1994)  3.000000\n",
       "101 Dalmatians (1996)             2.908257\n",
       "12 Angry Men (1957)               4.344000\n",
       "2 Days in the Valley (1996)       3.225806\n",
       "8 Heads in a Duffel Bag (1997)    3.250000\n",
       "...                                    ...\n",
       "Wrong Trousers, The (1993)        4.466102\n",
       "Wyatt Earp (1994)                 3.100000\n",
       "You So Crazy (1994)               3.000000\n",
       "Young Frankenstein (1974)         3.945000\n",
       "Young Guns (1988)                 3.207921\n",
       "\n",
       "[601 rows x 1 columns]"
      ]
     },
     "execution_count": 28,
     "metadata": {},
     "output_type": "execute_result"
    }
   ],
   "source": [
    "av_ratings"
   ]
  },
  {
   "cell_type": "markdown",
   "id": "42e72188",
   "metadata": {},
   "source": [
    "Now calculate the average MSE for all users based on the average rating from the training data, and comparing to the real ratings in the test data"
   ]
  },
  {
   "cell_type": "code",
   "execution_count": 30,
   "id": "f315b933",
   "metadata": {},
   "outputs": [
    {
     "data": {
      "text/plain": [
       "1.073672076930744"
      ]
     },
     "execution_count": 30,
     "metadata": {},
     "output_type": "execute_result"
    }
   ],
   "source": [
    "# Merge the DataFrame with the average ratings\n",
    "new_df = dft.merge(average_ratings.rename(\"avg_rating\"), on=\"Movie Title\")\n",
    "\n",
    "# Calculate squared differences\n",
    "new_df[\"squared_error\"] = (new_df[\"Rating\"] - new_df[\"avg_rating\"]) ** 2\n",
    "\n",
    "# Group by User ID and calculate the mean squared error for each user\n",
    "user_mse = new_df.groupby(\"User ID\")[\"squared_error\"].mean()\n",
    "\n",
    "# Convert the results to a list\n",
    "mse_list = user_mse.tolist()\n",
    "\n",
    "#print(\"MSE for each user:\", mse_list)\n",
    "\n",
    "user_mse.mean()"
   ]
  },
  {
   "cell_type": "markdown",
   "id": "db082468",
   "metadata": {},
   "source": [
    "We have an MSE of 1.07. We look to improve upon this with our recommender models"
   ]
  },
  {
   "cell_type": "code",
   "execution_count": null,
   "id": "ee46655f",
   "metadata": {},
   "outputs": [],
   "source": []
  }
 ],
 "metadata": {
  "kernelspec": {
   "display_name": "Python 3 (ipykernel)",
   "language": "python",
   "name": "python3"
  },
  "language_info": {
   "codemirror_mode": {
    "name": "ipython",
    "version": 3
   },
   "file_extension": ".py",
   "mimetype": "text/x-python",
   "name": "python",
   "nbconvert_exporter": "python",
   "pygments_lexer": "ipython3",
   "version": "3.9.13"
  }
 },
 "nbformat": 4,
 "nbformat_minor": 5
}
